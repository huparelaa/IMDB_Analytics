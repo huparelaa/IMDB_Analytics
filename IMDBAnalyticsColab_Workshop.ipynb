{
  "nbformat": 4,
  "nbformat_minor": 0,
  "metadata": {
    "colab": {
      "provenance": []
    },
    "kernelspec": {
      "name": "python3",
      "display_name": "Python 3"
    },
    "language_info": {
      "name": "python"
    }
  },
  "cells": [
    {
      "cell_type": "markdown",
      "source": [
        "# Taller\n",
        "\n",
        "Responder las preguntas de analítica acerca de la base de datos de IMDB que se encuentran a lo largo de este documento. Modifique el nombre de este archivo por el número de su documento (123456789.ipynb) y adjúntelo como parte de los entregables del taller.\n",
        "\n",
        "Nombre: \n",
        "\n"
      ],
      "metadata": {
        "id": "SZlxLS6OG3Y0"
      }
    },
    {
      "cell_type": "markdown",
      "source": [
        "### Descargar los datos:\n",
        "- Tabla de películas\n",
        "- Archivo .shp y archivos auxiliares con la información necesaria para pintar el mapa\n",
        "\n",
        "Estos archivos quedarán en la carpeta _/content/IMDBAnalyticsData/_ asociada con el sistema operativo del servidor en el que se está ejecutando google colab. "
      ],
      "metadata": {
        "id": "4lbh7BNKG9SR"
      }
    },
    {
      "cell_type": "code",
      "source": [
        "!wget --no-check-certificate 'https://docs.google.com/uc?export=download&id=1osH_xhTCW4Qh7f00VU_UaRK5whEXe8dr' -O data\n",
        "!unzip \"/content/data\" -d \"/content/IMDBAnalyticsData/\"\n"
      ],
      "metadata": {
        "colab": {
          "base_uri": "https://localhost:8080/"
        },
        "id": "jO_I6ahfDyd2",
        "outputId": "f5162040-1bbe-4f15-bcfd-ec31f310eb1b"
      },
      "execution_count": 1,
      "outputs": [
        {
          "output_type": "stream",
          "name": "stdout",
          "text": [
            "--2023-03-02 15:18:08--  https://docs.google.com/uc?export=download&id=1osH_xhTCW4Qh7f00VU_UaRK5whEXe8dr\n",
            "Resolving docs.google.com (docs.google.com)... 74.125.201.101, 74.125.201.139, 74.125.201.102, ...\n",
            "Connecting to docs.google.com (docs.google.com)|74.125.201.101|:443... connected.\n",
            "HTTP request sent, awaiting response... 303 See Other\n",
            "Location: https://doc-14-6c-docs.googleusercontent.com/docs/securesc/ha0ro937gcuc7l7deffksulhg5h7mbp1/vksiacmo1mk5vknnm42k8gh25mhpmd08/1677770250000/15315348669826032119/*/1osH_xhTCW4Qh7f00VU_UaRK5whEXe8dr?e=download&uuid=4e03effe-e3b8-4ccc-affc-afb3a2d0421e [following]\n",
            "Warning: wildcards not supported in HTTP.\n",
            "--2023-03-02 15:18:11--  https://doc-14-6c-docs.googleusercontent.com/docs/securesc/ha0ro937gcuc7l7deffksulhg5h7mbp1/vksiacmo1mk5vknnm42k8gh25mhpmd08/1677770250000/15315348669826032119/*/1osH_xhTCW4Qh7f00VU_UaRK5whEXe8dr?e=download&uuid=4e03effe-e3b8-4ccc-affc-afb3a2d0421e\n",
            "Resolving doc-14-6c-docs.googleusercontent.com (doc-14-6c-docs.googleusercontent.com)... 173.194.193.132, 2607:f8b0:4001:c0f::84\n",
            "Connecting to doc-14-6c-docs.googleusercontent.com (doc-14-6c-docs.googleusercontent.com)|173.194.193.132|:443... connected.\n",
            "HTTP request sent, awaiting response... 200 OK\n",
            "Length: 5477009 (5.2M) [application/x-zip-compressed]\n",
            "Saving to: ‘data’\n",
            "\n",
            "data                100%[===================>]   5.22M  --.-KB/s    in 0.05s   \n",
            "\n",
            "2023-03-02 15:18:11 (112 MB/s) - ‘data’ saved [5477009/5477009]\n",
            "\n",
            "Archive:  /content/data\n",
            "  inflating: /content/IMDBAnalyticsData/Data/Map/ne_10m_admin_0_countries.cpg  \n",
            "  inflating: /content/IMDBAnalyticsData/Data/Map/ne_10m_admin_0_countries.prj  \n",
            "  inflating: /content/IMDBAnalyticsData/Data/Map/ne_10m_admin_0_countries.VERSION.txt  \n",
            "  inflating: /content/IMDBAnalyticsData/Data/Map/ne_10m_admin_0_countries.README.html  \n",
            "  inflating: /content/IMDBAnalyticsData/Data/Map/ne_10m_admin_0_countries.shx  \n",
            "  inflating: /content/IMDBAnalyticsData/Data/Map/ne_10m_admin_0_countries.dbf  \n",
            "  inflating: /content/IMDBAnalyticsData/Data/Map/ne_10m_admin_0_countries.shp  \n",
            "  inflating: /content/IMDBAnalyticsData/Data/movie_metadata.csv  \n"
          ]
        }
      ]
    },
    {
      "cell_type": "markdown",
      "source": [
        "\n",
        "### Importar las librerías necesarias\n",
        "\n",
        "La libreia geopandas, que sirve para el procesamiento de archivos con información geográfica (shapefiles) no está instalada por defecto en el ambiente de google colab. Por esta razón, debe instalarla"
      ],
      "metadata": {
        "id": "z5LqB-gxeKWH"
      }
    },
    {
      "cell_type": "code",
      "source": [
        "!pip install geopandas"
      ],
      "metadata": {
        "id": "IO_Un0vgte_k"
      },
      "execution_count": null,
      "outputs": []
    },
    {
      "cell_type": "code",
      "execution_count": 4,
      "metadata": {
        "id": "gXDsfA6PCpms"
      },
      "outputs": [],
      "source": [
        "import pandas as pd\n",
        "import geopandas as gpd\n",
        "import numpy as np\n",
        "import matplotlib.pyplot as plt\n",
        "import plotly.express as px"
      ]
    },
    {
      "cell_type": "markdown",
      "source": [
        "### Información básica de la tabla de películas"
      ],
      "metadata": {
        "id": "8uCkZbZ0HSWe"
      }
    },
    {
      "cell_type": "code",
      "source": [
        "df = pd.read_csv('IMDBAnalyticsData/Data/movie_metadata.csv')\n",
        "df.head()"
      ],
      "metadata": {
        "colab": {
          "base_uri": "https://localhost:8080/",
          "height": 352
        },
        "id": "j1UQiTevGShR",
        "outputId": "0c3f6255-c9c7-474e-863e-d45e3b171676"
      },
      "execution_count": 6,
      "outputs": [
        {
          "output_type": "execute_result",
          "data": {
            "text/plain": [
              "   color      director_name  num_critic_for_reviews  duration  \\\n",
              "0  Color      James Cameron                   723.0     178.0   \n",
              "1  Color     Gore Verbinski                   302.0     169.0   \n",
              "2  Color         Sam Mendes                   602.0     148.0   \n",
              "3  Color  Christopher Nolan                   813.0     164.0   \n",
              "4    NaN        Doug Walker                     NaN       NaN   \n",
              "\n",
              "   director_facebook_likes  actor_3_facebook_likes      actor_2_name  \\\n",
              "0                      0.0                   855.0  Joel David Moore   \n",
              "1                    563.0                  1000.0     Orlando Bloom   \n",
              "2                      0.0                   161.0      Rory Kinnear   \n",
              "3                  22000.0                 23000.0    Christian Bale   \n",
              "4                    131.0                     NaN        Rob Walker   \n",
              "\n",
              "   actor_1_facebook_likes        gross                           genres  ...  \\\n",
              "0                  1000.0  760505847.0  Action|Adventure|Fantasy|Sci-Fi  ...   \n",
              "1                 40000.0  309404152.0         Action|Adventure|Fantasy  ...   \n",
              "2                 11000.0  200074175.0        Action|Adventure|Thriller  ...   \n",
              "3                 27000.0  448130642.0                  Action|Thriller  ...   \n",
              "4                   131.0          NaN                      Documentary  ...   \n",
              "\n",
              "  num_user_for_reviews language  country  content_rating       budget  \\\n",
              "0               3054.0  English      USA           PG-13  237000000.0   \n",
              "1               1238.0  English      USA           PG-13  300000000.0   \n",
              "2                994.0  English       UK           PG-13  245000000.0   \n",
              "3               2701.0  English      USA           PG-13  250000000.0   \n",
              "4                  NaN      NaN      NaN             NaN          NaN   \n",
              "\n",
              "   title_year actor_2_facebook_likes imdb_score  aspect_ratio  \\\n",
              "0      2009.0                  936.0        7.9          1.78   \n",
              "1      2007.0                 5000.0        7.1          2.35   \n",
              "2      2015.0                  393.0        6.8          2.35   \n",
              "3      2012.0                23000.0        8.5          2.35   \n",
              "4         NaN                   12.0        7.1           NaN   \n",
              "\n",
              "  movie_facebook_likes  \n",
              "0                33000  \n",
              "1                    0  \n",
              "2                85000  \n",
              "3               164000  \n",
              "4                    0  \n",
              "\n",
              "[5 rows x 28 columns]"
            ],
            "text/html": [
              "\n",
              "  <div id=\"df-76bbe0a7-162c-4ac8-bb5e-c3400dbfdf5f\">\n",
              "    <div class=\"colab-df-container\">\n",
              "      <div>\n",
              "<style scoped>\n",
              "    .dataframe tbody tr th:only-of-type {\n",
              "        vertical-align: middle;\n",
              "    }\n",
              "\n",
              "    .dataframe tbody tr th {\n",
              "        vertical-align: top;\n",
              "    }\n",
              "\n",
              "    .dataframe thead th {\n",
              "        text-align: right;\n",
              "    }\n",
              "</style>\n",
              "<table border=\"1\" class=\"dataframe\">\n",
              "  <thead>\n",
              "    <tr style=\"text-align: right;\">\n",
              "      <th></th>\n",
              "      <th>color</th>\n",
              "      <th>director_name</th>\n",
              "      <th>num_critic_for_reviews</th>\n",
              "      <th>duration</th>\n",
              "      <th>director_facebook_likes</th>\n",
              "      <th>actor_3_facebook_likes</th>\n",
              "      <th>actor_2_name</th>\n",
              "      <th>actor_1_facebook_likes</th>\n",
              "      <th>gross</th>\n",
              "      <th>genres</th>\n",
              "      <th>...</th>\n",
              "      <th>num_user_for_reviews</th>\n",
              "      <th>language</th>\n",
              "      <th>country</th>\n",
              "      <th>content_rating</th>\n",
              "      <th>budget</th>\n",
              "      <th>title_year</th>\n",
              "      <th>actor_2_facebook_likes</th>\n",
              "      <th>imdb_score</th>\n",
              "      <th>aspect_ratio</th>\n",
              "      <th>movie_facebook_likes</th>\n",
              "    </tr>\n",
              "  </thead>\n",
              "  <tbody>\n",
              "    <tr>\n",
              "      <th>0</th>\n",
              "      <td>Color</td>\n",
              "      <td>James Cameron</td>\n",
              "      <td>723.0</td>\n",
              "      <td>178.0</td>\n",
              "      <td>0.0</td>\n",
              "      <td>855.0</td>\n",
              "      <td>Joel David Moore</td>\n",
              "      <td>1000.0</td>\n",
              "      <td>760505847.0</td>\n",
              "      <td>Action|Adventure|Fantasy|Sci-Fi</td>\n",
              "      <td>...</td>\n",
              "      <td>3054.0</td>\n",
              "      <td>English</td>\n",
              "      <td>USA</td>\n",
              "      <td>PG-13</td>\n",
              "      <td>237000000.0</td>\n",
              "      <td>2009.0</td>\n",
              "      <td>936.0</td>\n",
              "      <td>7.9</td>\n",
              "      <td>1.78</td>\n",
              "      <td>33000</td>\n",
              "    </tr>\n",
              "    <tr>\n",
              "      <th>1</th>\n",
              "      <td>Color</td>\n",
              "      <td>Gore Verbinski</td>\n",
              "      <td>302.0</td>\n",
              "      <td>169.0</td>\n",
              "      <td>563.0</td>\n",
              "      <td>1000.0</td>\n",
              "      <td>Orlando Bloom</td>\n",
              "      <td>40000.0</td>\n",
              "      <td>309404152.0</td>\n",
              "      <td>Action|Adventure|Fantasy</td>\n",
              "      <td>...</td>\n",
              "      <td>1238.0</td>\n",
              "      <td>English</td>\n",
              "      <td>USA</td>\n",
              "      <td>PG-13</td>\n",
              "      <td>300000000.0</td>\n",
              "      <td>2007.0</td>\n",
              "      <td>5000.0</td>\n",
              "      <td>7.1</td>\n",
              "      <td>2.35</td>\n",
              "      <td>0</td>\n",
              "    </tr>\n",
              "    <tr>\n",
              "      <th>2</th>\n",
              "      <td>Color</td>\n",
              "      <td>Sam Mendes</td>\n",
              "      <td>602.0</td>\n",
              "      <td>148.0</td>\n",
              "      <td>0.0</td>\n",
              "      <td>161.0</td>\n",
              "      <td>Rory Kinnear</td>\n",
              "      <td>11000.0</td>\n",
              "      <td>200074175.0</td>\n",
              "      <td>Action|Adventure|Thriller</td>\n",
              "      <td>...</td>\n",
              "      <td>994.0</td>\n",
              "      <td>English</td>\n",
              "      <td>UK</td>\n",
              "      <td>PG-13</td>\n",
              "      <td>245000000.0</td>\n",
              "      <td>2015.0</td>\n",
              "      <td>393.0</td>\n",
              "      <td>6.8</td>\n",
              "      <td>2.35</td>\n",
              "      <td>85000</td>\n",
              "    </tr>\n",
              "    <tr>\n",
              "      <th>3</th>\n",
              "      <td>Color</td>\n",
              "      <td>Christopher Nolan</td>\n",
              "      <td>813.0</td>\n",
              "      <td>164.0</td>\n",
              "      <td>22000.0</td>\n",
              "      <td>23000.0</td>\n",
              "      <td>Christian Bale</td>\n",
              "      <td>27000.0</td>\n",
              "      <td>448130642.0</td>\n",
              "      <td>Action|Thriller</td>\n",
              "      <td>...</td>\n",
              "      <td>2701.0</td>\n",
              "      <td>English</td>\n",
              "      <td>USA</td>\n",
              "      <td>PG-13</td>\n",
              "      <td>250000000.0</td>\n",
              "      <td>2012.0</td>\n",
              "      <td>23000.0</td>\n",
              "      <td>8.5</td>\n",
              "      <td>2.35</td>\n",
              "      <td>164000</td>\n",
              "    </tr>\n",
              "    <tr>\n",
              "      <th>4</th>\n",
              "      <td>NaN</td>\n",
              "      <td>Doug Walker</td>\n",
              "      <td>NaN</td>\n",
              "      <td>NaN</td>\n",
              "      <td>131.0</td>\n",
              "      <td>NaN</td>\n",
              "      <td>Rob Walker</td>\n",
              "      <td>131.0</td>\n",
              "      <td>NaN</td>\n",
              "      <td>Documentary</td>\n",
              "      <td>...</td>\n",
              "      <td>NaN</td>\n",
              "      <td>NaN</td>\n",
              "      <td>NaN</td>\n",
              "      <td>NaN</td>\n",
              "      <td>NaN</td>\n",
              "      <td>NaN</td>\n",
              "      <td>12.0</td>\n",
              "      <td>7.1</td>\n",
              "      <td>NaN</td>\n",
              "      <td>0</td>\n",
              "    </tr>\n",
              "  </tbody>\n",
              "</table>\n",
              "<p>5 rows × 28 columns</p>\n",
              "</div>\n",
              "      <button class=\"colab-df-convert\" onclick=\"convertToInteractive('df-76bbe0a7-162c-4ac8-bb5e-c3400dbfdf5f')\"\n",
              "              title=\"Convert this dataframe to an interactive table.\"\n",
              "              style=\"display:none;\">\n",
              "        \n",
              "  <svg xmlns=\"http://www.w3.org/2000/svg\" height=\"24px\"viewBox=\"0 0 24 24\"\n",
              "       width=\"24px\">\n",
              "    <path d=\"M0 0h24v24H0V0z\" fill=\"none\"/>\n",
              "    <path d=\"M18.56 5.44l.94 2.06.94-2.06 2.06-.94-2.06-.94-.94-2.06-.94 2.06-2.06.94zm-11 1L8.5 8.5l.94-2.06 2.06-.94-2.06-.94L8.5 2.5l-.94 2.06-2.06.94zm10 10l.94 2.06.94-2.06 2.06-.94-2.06-.94-.94-2.06-.94 2.06-2.06.94z\"/><path d=\"M17.41 7.96l-1.37-1.37c-.4-.4-.92-.59-1.43-.59-.52 0-1.04.2-1.43.59L10.3 9.45l-7.72 7.72c-.78.78-.78 2.05 0 2.83L4 21.41c.39.39.9.59 1.41.59.51 0 1.02-.2 1.41-.59l7.78-7.78 2.81-2.81c.8-.78.8-2.07 0-2.86zM5.41 20L4 18.59l7.72-7.72 1.47 1.35L5.41 20z\"/>\n",
              "  </svg>\n",
              "      </button>\n",
              "      \n",
              "  <style>\n",
              "    .colab-df-container {\n",
              "      display:flex;\n",
              "      flex-wrap:wrap;\n",
              "      gap: 12px;\n",
              "    }\n",
              "\n",
              "    .colab-df-convert {\n",
              "      background-color: #E8F0FE;\n",
              "      border: none;\n",
              "      border-radius: 50%;\n",
              "      cursor: pointer;\n",
              "      display: none;\n",
              "      fill: #1967D2;\n",
              "      height: 32px;\n",
              "      padding: 0 0 0 0;\n",
              "      width: 32px;\n",
              "    }\n",
              "\n",
              "    .colab-df-convert:hover {\n",
              "      background-color: #E2EBFA;\n",
              "      box-shadow: 0px 1px 2px rgba(60, 64, 67, 0.3), 0px 1px 3px 1px rgba(60, 64, 67, 0.15);\n",
              "      fill: #174EA6;\n",
              "    }\n",
              "\n",
              "    [theme=dark] .colab-df-convert {\n",
              "      background-color: #3B4455;\n",
              "      fill: #D2E3FC;\n",
              "    }\n",
              "\n",
              "    [theme=dark] .colab-df-convert:hover {\n",
              "      background-color: #434B5C;\n",
              "      box-shadow: 0px 1px 3px 1px rgba(0, 0, 0, 0.15);\n",
              "      filter: drop-shadow(0px 1px 2px rgba(0, 0, 0, 0.3));\n",
              "      fill: #FFFFFF;\n",
              "    }\n",
              "  </style>\n",
              "\n",
              "      <script>\n",
              "        const buttonEl =\n",
              "          document.querySelector('#df-76bbe0a7-162c-4ac8-bb5e-c3400dbfdf5f button.colab-df-convert');\n",
              "        buttonEl.style.display =\n",
              "          google.colab.kernel.accessAllowed ? 'block' : 'none';\n",
              "\n",
              "        async function convertToInteractive(key) {\n",
              "          const element = document.querySelector('#df-76bbe0a7-162c-4ac8-bb5e-c3400dbfdf5f');\n",
              "          const dataTable =\n",
              "            await google.colab.kernel.invokeFunction('convertToInteractive',\n",
              "                                                     [key], {});\n",
              "          if (!dataTable) return;\n",
              "\n",
              "          const docLinkHtml = 'Like what you see? Visit the ' +\n",
              "            '<a target=\"_blank\" href=https://colab.research.google.com/notebooks/data_table.ipynb>data table notebook</a>'\n",
              "            + ' to learn more about interactive tables.';\n",
              "          element.innerHTML = '';\n",
              "          dataTable['output_type'] = 'display_data';\n",
              "          await google.colab.output.renderOutput(dataTable, element);\n",
              "          const docLink = document.createElement('div');\n",
              "          docLink.innerHTML = docLinkHtml;\n",
              "          element.appendChild(docLink);\n",
              "        }\n",
              "      </script>\n",
              "    </div>\n",
              "  </div>\n",
              "  "
            ]
          },
          "metadata": {},
          "execution_count": 6
        }
      ]
    },
    {
      "cell_type": "markdown",
      "source": [
        "**Pregunta 1**\n",
        "\n",
        "Utilice histogramas para comparar la distribución de la columna _imdb_score_ relacionada con películas producidas en Francia y Canadá.\n",
        "\n",
        "Para crear el histograma:\n",
        "\n",
        "- Ajuste el número de _bins_ a 20\n",
        "- De nombres a las etiquetas de los ejes (xAxis y yAxis)\n",
        "- Remueva el _grid_"
      ],
      "metadata": {
        "id": "yC3wEk43fLoI"
      }
    },
    {
      "cell_type": "code",
      "source": [
        "#Espacio para el código de la pregunta 1\n",
        "\n",
        "df_france = df.loc[df['country'] == 'France']\n",
        "\n",
        "plt.hist(df_france['imdb_score'], bins=20, alpha=0.6, label='Francia')\n",
        "\n",
        "\n",
        "plt.xlabel('imdb_score')\n",
        "plt.ylabel('Número de Películas')\n",
        "plt.title('Distribución de IMDb Scores de Películas producidas en Francia')\n",
        "\n",
        "plt.legend()\n",
        "plt.grid(False)\n",
        "\n",
        "plt.show()"
      ],
      "metadata": {
        "id": "gWP3ACHRf6W6",
        "outputId": "430ba497-59a3-4651-ad54-815d259afacd",
        "colab": {
          "base_uri": "https://localhost:8080/",
          "height": 296
        }
      },
      "execution_count": 21,
      "outputs": [
        {
          "output_type": "display_data",
          "data": {
            "text/plain": [
              "<Figure size 432x288 with 1 Axes>"
            ],
            "image/png": "[encoded data removed]"
          },
          "metadata": {
            "needs_background": "light"
          }
        }
      ]
    },
    {
      "cell_type": "code",
      "source": [
        "df_canada = df.loc[df['country'] == 'Canada']\n",
        "plt.hist(df_canada['imdb_score'], bins=20, alpha=0.8, label='Canada')\n",
        "\n",
        "plt.xlabel('imdb_score')\n",
        "plt.ylabel('Número de Películas')\n",
        "plt.title('Distribución de IMDb Scores de Películas producidas en Canada')\n",
        "\n",
        "plt.legend()\n",
        "plt.grid(False)\n",
        "\n",
        "plt.show()\n"
      ],
      "metadata": {
        "id": "EIjv0l82_OyQ",
        "outputId": "c79abb83-c666-4279-e857-f1f5dd182098",
        "colab": {
          "base_uri": "https://localhost:8080/",
          "height": 296
        }
      },
      "execution_count": 23,
      "outputs": [
        {
          "output_type": "display_data",
          "data": {
            "text/plain": [
              "<Figure size 432x288 with 1 Axes>"
            ],
            "image/png": "[encoded data removed]"
          },
          "metadata": {
            "needs_background": "light"
          }
        }
      ]
    },
    {
      "cell_type": "markdown",
      "source": [
        "**Pregunta 2**\n",
        "\n",
        "Cree un histograma para mirar la distribución de la columna _imdb_score_ de las películas producidas en blanco y negro.\n",
        "\n",
        "Para crear el histograma:\n",
        "\n",
        "- Ajuste el número de _bins_ a 10\n",
        "- De nombres a las etiquetas de los ejes (xAxis y yAxis)\n",
        "- Remueva el _grid_"
      ],
      "metadata": {
        "id": "8QxeMk_6gSxI"
      }
    },
    {
      "cell_type": "code",
      "source": [
        "#Espacio para el código de la pregunta 2\n",
        "\n",
        "df_NaN = df[df['color'] != ' Black and White']\n",
        "\n",
        "\n",
        "plt.hist(df_NaN['imdb_score'], bins=10, alpha=0.6, label='Blanco y negro')\n",
        "\n",
        "plt.xlabel('imdb_score')\n",
        "plt.ylabel('Número de Películas')\n",
        "plt.title('Películas producidas en blanco y negro')\n",
        "\n",
        "plt.grid(False)\n",
        "\n",
        "plt.show()"
      ],
      "metadata": {
        "id": "s8dZuTJIgTiP",
        "outputId": "27158792-da15-45ed-b8e0-1ad8453e39ab",
        "colab": {
          "base_uri": "https://localhost:8080/",
          "height": 296
        }
      },
      "execution_count": 31,
      "outputs": [
        {
          "output_type": "display_data",
          "data": {
            "text/plain": [
              "<Figure size 432x288 with 1 Axes>"
            ],
            "image/png": "[encoded data removed]"
          },
          "metadata": {
            "needs_background": "light"
          }
        }
      ]
    },
    {
      "cell_type": "markdown",
      "source": [
        "**Pregunta 3**\n",
        "\n",
        "¿Qué país tiene el mayor promedio de calificación de películas? Utilice figuras de barras para visualizar los resultados.  \n",
        "\n"
      ],
      "metadata": {
        "id": "dH1AdJmRgv43"
      }
    },
    {
      "cell_type": "code",
      "source": [
        "#Espacio para el código de la pregunta 3\n",
        "count_per_year = df.groupby('country')['imdb_score'].mean()\n",
        "print(count_per_year)\n",
        "print(f\"El país con más promedio de películas producidas fue {count_per_year.idxmax()} con {count_per_year.max()} películas\")\n",
        "\n",
        "ax = count_per_year.plot.bar(figsize = (18,10))\n",
        "ax.set_xlabel('Country')\n",
        "ax.set_ylabel('mean of movies')\n"
      ],
      "metadata": {
        "id": "BsPKWFmUiYEW",
        "outputId": "9dfa75d2-87b3-4b8f-8570-116e7fbf2463",
        "colab": {
          "base_uri": "https://localhost:8080/",
          "height": 962
        }
      },
      "execution_count": 34,
      "outputs": [
        {
          "output_type": "stream",
          "name": "stdout",
          "text": [
            "country\n",
            "Afghanistan             7.400000\n",
            "Argentina               7.500000\n",
            "Aruba                   4.800000\n",
            "Australia               6.514545\n",
            "Bahamas                 4.400000\n",
            "                          ...   \n",
            "Turkey                  6.000000\n",
            "UK                      6.818304\n",
            "USA                     6.367428\n",
            "United Arab Emirates    8.200000\n",
            "West Germany            7.266667\n",
            "Name: imdb_score, Length: 65, dtype: float64\n",
            "El país con más promedio de películas producidas fue Kyrgyzstan con 8.7 películas\n"
          ]
        },
        {
          "output_type": "execute_result",
          "data": {
            "text/plain": [
              "Text(0, 0.5, 'mean of movies')"
            ]
          },
          "metadata": {},
          "execution_count": 34
        },
        {
          "output_type": "display_data",
          "data": {
            "text/plain": [
              "<Figure size 1296x720 with 1 Axes>"
            ],
            "image/png": "[encoded data removed]"
          },
          "metadata": {
            "needs_background": "light"
          }
        }
      ]
    },
    {
      "cell_type": "markdown",
      "source": [
        "**Pregunta 4** \n",
        "\n",
        "¿Cuántas películas a blanco y negro y cuántas películas a color se tienen en la base de datos?\n"
      ],
      "metadata": {
        "id": "U-FI2aUHibDb"
      }
    },
    {
      "cell_type": "code",
      "source": [
        "#Espacio para el código de la pregunta 4\n",
        "black_and_white_movies = df[df['color'] == ' Black and White']\n",
        "num_black_and_white_movies = len(black_and_white_movies)\n",
        "\n",
        "print(f\"Hay un total de {num_black_and_white_movies} películas producidas en blanco y negro\")\n",
        "\n",
        "color = df[df['color'] == 'Color']\n",
        "num_color = len(color)\n",
        "\n",
        "print(f\"Hay un total de {num_color} películas producidas a color\")\n",
        "\n"
      ],
      "metadata": {
        "id": "lK_bvwSZiyq-",
        "outputId": "de674455-b299-4a95-82d5-d27b93b8e12e",
        "colab": {
          "base_uri": "https://localhost:8080/"
        }
      },
      "execution_count": 30,
      "outputs": [
        {
          "output_type": "stream",
          "name": "stdout",
          "text": [
            "Hay un total de 209 películas producidas en blanco y negro\n",
            "Hay un total de 4815 películas producidas a color\n"
          ]
        }
      ]
    },
    {
      "cell_type": "markdown",
      "source": [
        "**Pregunta 5**\n",
        "\n",
        "¿Cuál película de Christopher Nolan tiene la mayor calificación (_imdb_score_)? Utilice figuras de barras para visualizar los resultados."
      ],
      "metadata": {
        "id": "it0hx_KwiyzI"
      }
    },
    {
      "cell_type": "code",
      "source": [
        "#Espacio para el código de la pregunta 5\n",
        "# Filtrar las películas dirigidas por Christopher Nolan\n",
        "nolan_movies = df[df['director_name'] == 'Christopher Nolan']\n",
        "\n",
        "# Encontrar la película con el imdb_score más alto\n",
        "max_score_movie = nolan_movies.loc[nolan_movies['imdb_score'].idxmax()]\n",
        "\n",
        "# Crear la figura de barras\n",
        "plt.bar(max_score_movie['movie_title'], max_score_movie['imdb_score'])\n",
        "plt.title('Película de Christopher Nolan con la mayor calificación')\n",
        "plt.xlabel('Película')\n",
        "plt.ylabel('imdb_score')\n",
        "plt.show()\n"
      ],
      "metadata": {
        "id": "u59YNp9Yiz1Q",
        "outputId": "01687806-c364-4ce9-8ab9-f3e2b615b827",
        "colab": {
          "base_uri": "https://localhost:8080/",
          "height": 502
        }
      },
      "execution_count": 36,
      "outputs": [
        {
          "output_type": "error",
          "ename": "KeyError",
          "evalue": "ignored",
          "traceback": [
            "\u001b[0;31m---------------------------------------------------------------------------\u001b[0m",
            "\u001b[0;31mKeyError\u001b[0m                                  Traceback (most recent call last)",
            "\u001b[0;32m/usr/local/lib/python3.8/dist-packages/pandas/core/indexes/base.py\u001b[0m in \u001b[0;36mget_loc\u001b[0;34m(self, key, method, tolerance)\u001b[0m\n\u001b[1;32m   3360\u001b[0m             \u001b[0;32mtry\u001b[0m\u001b[0;34m:\u001b[0m\u001b[0;34m\u001b[0m\u001b[0;34m\u001b[0m\u001b[0m\n\u001b[0;32m-> 3361\u001b[0;31m                 \u001b[0;32mreturn\u001b[0m \u001b[0mself\u001b[0m\u001b[0;34m.\u001b[0m\u001b[0m_engine\u001b[0m\u001b[0;34m.\u001b[0m\u001b[0mget_loc\u001b[0m\u001b[0;34m(\u001b[0m\u001b[0mcasted_key\u001b[0m\u001b[0;34m)\u001b[0m\u001b[0;34m\u001b[0m\u001b[0;34m\u001b[0m\u001b[0m\n\u001b[0m\u001b[1;32m   3362\u001b[0m             \u001b[0;32mexcept\u001b[0m \u001b[0mKeyError\u001b[0m \u001b[0;32mas\u001b[0m \u001b[0merr\u001b[0m\u001b[0;34m:\u001b[0m\u001b[0;34m\u001b[0m\u001b[0;34m\u001b[0m\u001b[0m\n",
            "\u001b[0;32m/usr/local/lib/python3.8/dist-packages/pandas/_libs/index.pyx\u001b[0m in \u001b[0;36mpandas._libs.index.IndexEngine.get_loc\u001b[0;34m()\u001b[0m\n",
            "\u001b[0;32m/usr/local/lib/python3.8/dist-packages/pandas/_libs/index.pyx\u001b[0m in \u001b[0;36mpandas._libs.index.IndexEngine.get_loc\u001b[0;34m()\u001b[0m\n",
            "\u001b[0;32mpandas/_libs/hashtable_class_helper.pxi\u001b[0m in \u001b[0;36mpandas._libs.hashtable.PyObjectHashTable.get_item\u001b[0;34m()\u001b[0m\n",
            "\u001b[0;32mpandas/_libs/hashtable_class_helper.pxi\u001b[0m in \u001b[0;36mpandas._libs.hashtable.PyObjectHashTable.get_item\u001b[0;34m()\u001b[0m\n",
            "\u001b[0;31mKeyError\u001b[0m: 66",
            "\nThe above exception was the direct cause of the following exception:\n",
            "\u001b[0;31mKeyError\u001b[0m                                  Traceback (most recent call last)",
            "\u001b[0;32m<ipython-input-36-2f5025875476>\u001b[0m in \u001b[0;36m<module>\u001b[0;34m\u001b[0m\n\u001b[1;32m      4\u001b[0m \u001b[0;34m\u001b[0m\u001b[0m\n\u001b[1;32m      5\u001b[0m \u001b[0;31m# Encontrar la película con el imdb_score más alto\u001b[0m\u001b[0;34m\u001b[0m\u001b[0;34m\u001b[0m\u001b[0;34m\u001b[0m\u001b[0m\n\u001b[0;32m----> 6\u001b[0;31m \u001b[0mmax_score_movie\u001b[0m \u001b[0;34m=\u001b[0m \u001b[0mnolan_movies\u001b[0m\u001b[0;34m[\u001b[0m\u001b[0mnolan_movies\u001b[0m\u001b[0;34m[\u001b[0m\u001b[0;34m'imdb_score'\u001b[0m\u001b[0;34m]\u001b[0m\u001b[0;34m.\u001b[0m\u001b[0midxmax\u001b[0m\u001b[0;34m(\u001b[0m\u001b[0;34m)\u001b[0m\u001b[0;34m]\u001b[0m\u001b[0;34m\u001b[0m\u001b[0;34m\u001b[0m\u001b[0m\n\u001b[0m\u001b[1;32m      7\u001b[0m \u001b[0;34m\u001b[0m\u001b[0m\n\u001b[1;32m      8\u001b[0m \u001b[0;31m# Crear la figura de barras\u001b[0m\u001b[0;34m\u001b[0m\u001b[0;34m\u001b[0m\u001b[0;34m\u001b[0m\u001b[0m\n",
            "\u001b[0;32m/usr/local/lib/python3.8/dist-packages/pandas/core/frame.py\u001b[0m in \u001b[0;36m__getitem__\u001b[0;34m(self, key)\u001b[0m\n\u001b[1;32m   3456\u001b[0m             \u001b[0;32mif\u001b[0m \u001b[0mself\u001b[0m\u001b[0;34m.\u001b[0m\u001b[0mcolumns\u001b[0m\u001b[0;34m.\u001b[0m\u001b[0mnlevels\u001b[0m \u001b[0;34m>\u001b[0m \u001b[0;36m1\u001b[0m\u001b[0;34m:\u001b[0m\u001b[0;34m\u001b[0m\u001b[0;34m\u001b[0m\u001b[0m\n\u001b[1;32m   3457\u001b[0m                 \u001b[0;32mreturn\u001b[0m \u001b[0mself\u001b[0m\u001b[0;34m.\u001b[0m\u001b[0m_getitem_multilevel\u001b[0m\u001b[0;34m(\u001b[0m\u001b[0mkey\u001b[0m\u001b[0;34m)\u001b[0m\u001b[0;34m\u001b[0m\u001b[0;34m\u001b[0m\u001b[0m\n\u001b[0;32m-> 3458\u001b[0;31m             \u001b[0mindexer\u001b[0m \u001b[0;34m=\u001b[0m \u001b[0mself\u001b[0m\u001b[0;34m.\u001b[0m\u001b[0mcolumns\u001b[0m\u001b[0;34m.\u001b[0m\u001b[0mget_loc\u001b[0m\u001b[0;34m(\u001b[0m\u001b[0mkey\u001b[0m\u001b[0;34m)\u001b[0m\u001b[0;34m\u001b[0m\u001b[0;34m\u001b[0m\u001b[0m\n\u001b[0m\u001b[1;32m   3459\u001b[0m             \u001b[0;32mif\u001b[0m \u001b[0mis_integer\u001b[0m\u001b[0;34m(\u001b[0m\u001b[0mindexer\u001b[0m\u001b[0;34m)\u001b[0m\u001b[0;34m:\u001b[0m\u001b[0;34m\u001b[0m\u001b[0;34m\u001b[0m\u001b[0m\n\u001b[1;32m   3460\u001b[0m                 \u001b[0mindexer\u001b[0m \u001b[0;34m=\u001b[0m \u001b[0;34m[\u001b[0m\u001b[0mindexer\u001b[0m\u001b[0;34m]\u001b[0m\u001b[0;34m\u001b[0m\u001b[0;34m\u001b[0m\u001b[0m\n",
            "\u001b[0;32m/usr/local/lib/python3.8/dist-packages/pandas/core/indexes/base.py\u001b[0m in \u001b[0;36mget_loc\u001b[0;34m(self, key, method, tolerance)\u001b[0m\n\u001b[1;32m   3361\u001b[0m                 \u001b[0;32mreturn\u001b[0m \u001b[0mself\u001b[0m\u001b[0;34m.\u001b[0m\u001b[0m_engine\u001b[0m\u001b[0;34m.\u001b[0m\u001b[0mget_loc\u001b[0m\u001b[0;34m(\u001b[0m\u001b[0mcasted_key\u001b[0m\u001b[0;34m)\u001b[0m\u001b[0;34m\u001b[0m\u001b[0;34m\u001b[0m\u001b[0m\n\u001b[1;32m   3362\u001b[0m             \u001b[0;32mexcept\u001b[0m \u001b[0mKeyError\u001b[0m \u001b[0;32mas\u001b[0m \u001b[0merr\u001b[0m\u001b[0;34m:\u001b[0m\u001b[0;34m\u001b[0m\u001b[0;34m\u001b[0m\u001b[0m\n\u001b[0;32m-> 3363\u001b[0;31m                 \u001b[0;32mraise\u001b[0m \u001b[0mKeyError\u001b[0m\u001b[0;34m(\u001b[0m\u001b[0mkey\u001b[0m\u001b[0;34m)\u001b[0m \u001b[0;32mfrom\u001b[0m \u001b[0merr\u001b[0m\u001b[0;34m\u001b[0m\u001b[0;34m\u001b[0m\u001b[0m\n\u001b[0m\u001b[1;32m   3364\u001b[0m \u001b[0;34m\u001b[0m\u001b[0m\n\u001b[1;32m   3365\u001b[0m         \u001b[0;32mif\u001b[0m \u001b[0mis_scalar\u001b[0m\u001b[0;34m(\u001b[0m\u001b[0mkey\u001b[0m\u001b[0;34m)\u001b[0m \u001b[0;32mand\u001b[0m \u001b[0misna\u001b[0m\u001b[0;34m(\u001b[0m\u001b[0mkey\u001b[0m\u001b[0;34m)\u001b[0m \u001b[0;32mand\u001b[0m \u001b[0;32mnot\u001b[0m \u001b[0mself\u001b[0m\u001b[0;34m.\u001b[0m\u001b[0mhasnans\u001b[0m\u001b[0;34m:\u001b[0m\u001b[0;34m\u001b[0m\u001b[0;34m\u001b[0m\u001b[0m\n",
            "\u001b[0;31mKeyError\u001b[0m: 66"
          ]
        }
      ]
    },
    {
      "cell_type": "markdown",
      "source": [
        "**Pregunta 6**\n",
        "\n",
        "Utilice un _line chart_ para visualizar cuántas películas se produjeron en USA desde el 2010 hasta el 2015."
      ],
      "metadata": {
        "id": "Fvp8nubNiz-z"
      }
    },
    {
      "cell_type": "code",
      "source": [
        "#Espacio para el código de la pregunta 6\n",
        "\n",
        "usa_movies = df[(df['country'] == 'USA') & (df['title_year'] >= 2010) & (df['title_year'] <= 2015)]\n",
        "\n",
        "\n",
        "# Contar el número de películas producidas por año\n",
        "movies_per_year = usa_movies['title_year'].value_counts().sort_index()\n",
        "\n",
        "# Crear el line chart\n",
        "plt.plot(movies_per_year.index, movies_per_year.values)\n",
        "plt.title('Producción de películas en USA (2010-2015)')\n",
        "plt.xlabel('Año')\n",
        "plt.ylabel('Número de películas')\n",
        "plt.show()"
      ],
      "metadata": {
        "id": "cJzaho3Oi3Vz",
        "outputId": "2c9b9d88-2047-4a06-aab1-5ec6226b6c83",
        "colab": {
          "base_uri": "https://localhost:8080/",
          "height": 295
        }
      },
      "execution_count": 33,
      "outputs": [
        {
          "output_type": "display_data",
          "data": {
            "text/plain": [
              "<Figure size 432x288 with 1 Axes>"
            ],
            "image/png": "[encoded data removed]"
          },
          "metadata": {
            "needs_background": "light"
          }
        }
      ]
    },
    {
      "cell_type": "markdown",
      "source": [
        "**Pregunta 7**\n",
        "\n",
        "Grafique en un mapa el _imdb_score_ promedio de las películas producidas en cada país."
      ],
      "metadata": {
        "id": "p6M8kMTIjw-I"
      }
    },
    {
      "cell_type": "code",
      "source": [
        "#Espacio para el código de la pregunta 7\n",
        "\n",
        "\n",
        "\n",
        "# Calcular el imdb_score promedio por país\n",
        "mean_scores = df.groupby('country')['imdb_score'].mean().reset_index()\n",
        "\n",
        "# Cargar los datos de los países en un GeoDataFrame\n",
        "world = gpd.read_file(gpd.datasets.get_path('naturalearth_lowres'))\n",
        "\n",
        "# Unir el GeoDataFrame de países con el DataFrame de imdb_score promedio por país\n",
        "merged = world.merge(mean_scores, left_on='iso_a3', right_on='country', how='left')\n",
        "\n",
        "# Convertir la columna de imdb_score promedio en números decimales\n",
        "merged['imdb_score'] = merged['imdb_score'].astype(float)\n",
        "\n",
        "# Obtener el valor mínimo y máximo de imdb_score promedio\n",
        "vmin = merged['imdb_score'].min()\n",
        "vmax = merged['imdb_score'].max()\n",
        "\n",
        "# Crear una figura y un eje\n",
        "fig, ax = plt.subplots(figsize=(15, 10))\n",
        "\n",
        "# Visualizar el mapa con el imdb_score promedio por país\n",
        "merged.plot(column='imdb_score', ax=ax, legend=True, cmap='OrRd', vmin=vmin, vmax=vmax)\n",
        "\n",
        "# Configurar los límites del eje\n",
        "ax.set_xlim([-180, 180])\n",
        "ax.set_ylim([-60, 90])\n",
        "\n",
        "# Configurar el título y las etiquetas de los ejes\n",
        "ax.set_title('IMDB Score Promedio por País')\n",
        "ax.set_xlabel('Longitud')\n",
        "ax.set_ylabel('Latitud')\n",
        "\n",
        "# Mostrar la figura\n",
        "plt.show()"
      ],
      "metadata": {
        "id": "cYPPaOARkAoi",
        "outputId": "90273ac8-f867-4636-d8bd-15c656c632e3",
        "colab": {
          "base_uri": "https://localhost:8080/",
          "height": 577
        }
      },
      "execution_count": 38,
      "outputs": [
        {
          "output_type": "display_data",
          "data": {
            "text/plain": [
              "<Figure size 1080x720 with 2 Axes>"
            ],
            "image/png": "[encoded data removed]"
          },
          "metadata": {
            "needs_background": "light"
          }
        }
      ]
    },
    {
      "cell_type": "markdown",
      "source": [],
      "metadata": {
        "id": "EN38Fty9JVMx"
      }
    },
    {
      "cell_type": "markdown",
      "source": [
        "**Pregunta 8**\n",
        "\n",
        "¿Qué información de su proyecto podría utilizar para hacer analítica de datos?\n"
      ],
      "metadata": {
        "id": "PU82gJzJj0e8"
      }
    },
    {
      "cell_type": "code",
      "source": [
        "El proyecto FireFly puede usar analítica de datos a la hora de realizar match entre usuarios, "
      ],
      "metadata": {
        "id": "5mz1G1DnkCUC"
      },
      "execution_count": null,
      "outputs": []
    }
  ]
}